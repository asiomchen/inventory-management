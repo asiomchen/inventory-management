{
 "cells": [
  {
   "cell_type": "code",
   "execution_count": 1,
   "metadata": {},
   "outputs": [],
   "source": [
    "import pandas as pd"
   ]
  },
  {
   "cell_type": "code",
   "execution_count": 13,
   "metadata": {},
   "outputs": [],
   "source": [
    "df = pd.read_csv('exported_data.csv')"
   ]
  },
  {
   "cell_type": "code",
   "execution_count": 21,
   "metadata": {},
   "outputs": [
    {
     "name": "stderr",
     "output_type": "stream",
     "text": [
      "/tmp/ipykernel_30544/542570531.py:4: FutureWarning: A value is trying to be set on a copy of a DataFrame or Series through chained assignment using an inplace method.\n",
      "The behavior will change in pandas 3.0. This inplace method will never work because the intermediate object on which we are setting values always behaves as a copy.\n",
      "\n",
      "For example, when doing 'df[col].method(value, inplace=True)', try using 'df.method({col: value}, inplace=True)' or df[col] = df[col].method(value) instead, to perform the operation inplace on the original object.\n",
      "\n",
      "\n",
      "  usefull.description.fillna('', inplace=True)\n",
      "/tmp/ipykernel_30544/542570531.py:4: SettingWithCopyWarning: \n",
      "A value is trying to be set on a copy of a slice from a DataFrame\n",
      "\n",
      "See the caveats in the documentation: https://pandas.pydata.org/pandas-docs/stable/user_guide/indexing.html#returning-a-view-versus-a-copy\n",
      "  usefull.description.fillna('', inplace=True)\n",
      "/tmp/ipykernel_30544/542570531.py:5: FutureWarning: A value is trying to be set on a copy of a DataFrame or Series through chained assignment using an inplace method.\n",
      "The behavior will change in pandas 3.0. This inplace method will never work because the intermediate object on which we are setting values always behaves as a copy.\n",
      "\n",
      "For example, when doing 'df[col].method(value, inplace=True)', try using 'df.method({col: value}, inplace=True)' or df[col] = df[col].method(value) instead, to perform the operation inplace on the original object.\n",
      "\n",
      "\n",
      "  usefull.photo.fillna('', inplace=True)\n",
      "/tmp/ipykernel_30544/542570531.py:5: SettingWithCopyWarning: \n",
      "A value is trying to be set on a copy of a slice from a DataFrame\n",
      "\n",
      "See the caveats in the documentation: https://pandas.pydata.org/pandas-docs/stable/user_guide/indexing.html#returning-a-view-versus-a-copy\n",
      "  usefull.photo.fillna('', inplace=True)\n",
      "/tmp/ipykernel_30544/542570531.py:6: SettingWithCopyWarning: \n",
      "A value is trying to be set on a copy of a slice from a DataFrame.\n",
      "Try using .loc[row_indexer,col_indexer] = value instead\n",
      "\n",
      "See the caveats in the documentation: https://pandas.pydata.org/pandas-docs/stable/user_guide/indexing.html#returning-a-view-versus-a-copy\n",
      "  usefull.photo = usefull.photo.apply(lambda x: x.split(\";\")[0])\n",
      "/tmp/ipykernel_30544/542570531.py:8: SettingWithCopyWarning: \n",
      "A value is trying to be set on a copy of a slice from a DataFrame.\n",
      "Try using .loc[row_indexer,col_indexer] = value instead\n",
      "\n",
      "See the caveats in the documentation: https://pandas.pydata.org/pandas-docs/stable/user_guide/indexing.html#returning-a-view-versus-a-copy\n",
      "  usefull[\"photo_url\"] = usefull[\"photo\"].apply(lambda x: base_url + x.split(\";\")[0] if x else \"\")\n"
     ]
    }
   ],
   "source": [
    "usefull = df[[\"Name\",\"Category\",\"Description\"]]\n",
    "# rename columns\n",
    "usefull.columns = ['name', 'description', 'photo']\n",
    "usefull.description.fillna('', inplace=True)\n",
    "usefull.photo.fillna('', inplace=True)\n",
    "usefull.photo = usefull.photo.apply(lambda x: x.split(\";\")[0])\n",
    "base_url = \"https://static.wixstatic.com/media/\"\n",
    "usefull[\"photo_url\"] = usefull[\"photo\"].apply(lambda x: base_url + x.split(\";\")[0] if x else \"\")"
   ]
  },
  {
   "cell_type": "code",
   "execution_count": 22,
   "metadata": {},
   "outputs": [
    {
     "data": {
      "text/html": [
       "<div>\n",
       "<style scoped>\n",
       "    .dataframe tbody tr th:only-of-type {\n",
       "        vertical-align: middle;\n",
       "    }\n",
       "\n",
       "    .dataframe tbody tr th {\n",
       "        vertical-align: top;\n",
       "    }\n",
       "\n",
       "    .dataframe thead th {\n",
       "        text-align: right;\n",
       "    }\n",
       "</style>\n",
       "<table border=\"1\" class=\"dataframe\">\n",
       "  <thead>\n",
       "    <tr style=\"text-align: right;\">\n",
       "      <th></th>\n",
       "      <th>name</th>\n",
       "      <th>description</th>\n",
       "      <th>photo</th>\n",
       "      <th>photo_url</th>\n",
       "    </tr>\n",
       "  </thead>\n",
       "  <tbody>\n",
       "    <tr>\n",
       "      <th>0</th>\n",
       "      <td>6. hand made porcelain puer knife</td>\n",
       "      <td>Liu seamlessly blends many different materials...</td>\n",
       "      <td>af929c_470c2d7e4c3048fdae7451a712fc3e85~mv2.jpg</td>\n",
       "      <td>https://static.wixstatic.com/media/af929c_470c...</td>\n",
       "    </tr>\n",
       "    <tr>\n",
       "      <th>1</th>\n",
       "      <td>74  yixing</td>\n",
       "      <td></td>\n",
       "      <td>af929c_c01fc8822acf45529b16cbb1b62fd5de~mv2.jpg</td>\n",
       "      <td>https://static.wixstatic.com/media/af929c_c01f...</td>\n",
       "    </tr>\n",
       "    <tr>\n",
       "      <th>2</th>\n",
       "      <td>107. Peach Da Hong Pao '21</td>\n",
       "      <td>Varietal: Da Hong Pao\\r\\nRegion: Wuyi Mountain...</td>\n",
       "      <td></td>\n",
       "      <td></td>\n",
       "    </tr>\n",
       "  </tbody>\n",
       "</table>\n",
       "</div>"
      ],
      "text/plain": [
       "                                name  \\\n",
       "0  6. hand made porcelain puer knife   \n",
       "1                         74  yixing   \n",
       "2         107. Peach Da Hong Pao '21   \n",
       "\n",
       "                                         description  \\\n",
       "0  Liu seamlessly blends many different materials...   \n",
       "1                                                      \n",
       "2  Varietal: Da Hong Pao\\r\\nRegion: Wuyi Mountain...   \n",
       "\n",
       "                                             photo  \\\n",
       "0  af929c_470c2d7e4c3048fdae7451a712fc3e85~mv2.jpg   \n",
       "1  af929c_c01fc8822acf45529b16cbb1b62fd5de~mv2.jpg   \n",
       "2                                                    \n",
       "\n",
       "                                           photo_url  \n",
       "0  https://static.wixstatic.com/media/af929c_470c...  \n",
       "1  https://static.wixstatic.com/media/af929c_c01f...  \n",
       "2                                                     "
      ]
     },
     "execution_count": 22,
     "metadata": {},
     "output_type": "execute_result"
    }
   ],
   "source": [
    "usefull"
   ]
  },
  {
   "cell_type": "code",
   "execution_count": 3,
   "metadata": {},
   "outputs": [],
   "source": [
    "from data import  Product, ImportedProduct, Image"
   ]
  },
  {
   "cell_type": "code",
   "execution_count": 4,
   "metadata": {},
   "outputs": [
    {
     "data": {
      "text/plain": [
       "ImportedProduct(title='test_imported', category_idx=0, description='test', photo='https://static.wixstatic.com/media/af929c_c01fc8822acf45529b16cbb1b62fd5de~mv2.jpg', quantity=0, weight=0, purchase_price=0, sale_price=0, volume=0)"
      ]
     },
     "execution_count": 4,
     "metadata": {},
     "output_type": "execute_result"
    }
   ],
   "source": [
    "test  = ImportedProduct(title=\"test_imported\", \n",
    "                        description=\"test\", \n",
    "                        photo=\"https://static.wixstatic.com/media/af929c_c01fc8822acf45529b16cbb1b62fd5de~mv2.jpg\")\n",
    "test"
   ]
  },
  {
   "cell_type": "code",
   "execution_count": 5,
   "metadata": {},
   "outputs": [
    {
     "ename": "RuntimeError",
     "evalue": "Working outside of application context.\n\nThis typically means that you attempted to use functionality that needed\nthe current application. To solve this, set up an application context\nwith app.app_context(). See the documentation for more information.",
     "output_type": "error",
     "traceback": [
      "\u001b[0;31m---------------------------------------------------------------------------\u001b[0m",
      "\u001b[0;31mRuntimeError\u001b[0m                              Traceback (most recent call last)",
      "Cell \u001b[0;32mIn[5], line 1\u001b[0m\n\u001b[0;32m----> 1\u001b[0m product \u001b[38;5;241m=\u001b[39m \u001b[43mProduct\u001b[49m\u001b[38;5;241;43m.\u001b[39;49m\u001b[43mfrom_wix\u001b[49m\u001b[43m(\u001b[49m\u001b[43mtest\u001b[49m\u001b[43m)\u001b[49m\n",
      "File \u001b[0;32m~/inventory/data.py:72\u001b[0m, in \u001b[0;36mProduct.from_wix\u001b[0;34m(cls, product)\u001b[0m\n\u001b[1;32m     70\u001b[0m secure_url, public_id \u001b[38;5;241m=\u001b[39m upload_image(photo_url)\n\u001b[1;32m     71\u001b[0m image \u001b[38;5;241m=\u001b[39m Image(url\u001b[38;5;241m=\u001b[39msecure_url, public_id\u001b[38;5;241m=\u001b[39mpublic_id)\n\u001b[0;32m---> 72\u001b[0m \u001b[43mdb\u001b[49m\u001b[38;5;241;43m.\u001b[39;49m\u001b[43msession\u001b[49m\u001b[38;5;241;43m.\u001b[39;49m\u001b[43madd\u001b[49m\u001b[43m(\u001b[49m\u001b[43mimage\u001b[49m\u001b[43m)\u001b[49m\n\u001b[1;32m     73\u001b[0m db\u001b[38;5;241m.\u001b[39msession\u001b[38;5;241m.\u001b[39mcommit()\n\u001b[1;32m     74\u001b[0m photo_idx \u001b[38;5;241m=\u001b[39m image\u001b[38;5;241m.\u001b[39midx\n",
      "File \u001b[0;32m~/inventory/.venv/lib/python3.10/site-packages/sqlalchemy/orm/scoping.py:378\u001b[0m, in \u001b[0;36mscoped_session.add\u001b[0;34m(self, instance, _warn)\u001b[0m\n\u001b[1;32m    346\u001b[0m \u001b[38;5;28;01mdef\u001b[39;00m \u001b[38;5;21madd\u001b[39m(\u001b[38;5;28mself\u001b[39m, instance: \u001b[38;5;28mobject\u001b[39m, _warn: \u001b[38;5;28mbool\u001b[39m \u001b[38;5;241m=\u001b[39m \u001b[38;5;28;01mTrue\u001b[39;00m) \u001b[38;5;241m-\u001b[39m\u001b[38;5;241m>\u001b[39m \u001b[38;5;28;01mNone\u001b[39;00m:\n\u001b[1;32m    347\u001b[0m \u001b[38;5;250m    \u001b[39m\u001b[38;5;124mr\u001b[39m\u001b[38;5;124;03m\"\"\"Place an object into this :class:`_orm.Session`.\u001b[39;00m\n\u001b[1;32m    348\u001b[0m \n\u001b[1;32m    349\u001b[0m \u001b[38;5;124;03m    .. container:: class_bases\u001b[39;00m\n\u001b[0;32m   (...)\u001b[0m\n\u001b[1;32m    375\u001b[0m \n\u001b[1;32m    376\u001b[0m \u001b[38;5;124;03m    \"\"\"\u001b[39;00m  \u001b[38;5;66;03m# noqa: E501\u001b[39;00m\n\u001b[0;32m--> 378\u001b[0m     \u001b[38;5;28;01mreturn\u001b[39;00m \u001b[38;5;28;43mself\u001b[39;49m\u001b[38;5;241;43m.\u001b[39;49m\u001b[43m_proxied\u001b[49m\u001b[38;5;241m.\u001b[39madd(instance, _warn\u001b[38;5;241m=\u001b[39m_warn)\n",
      "File \u001b[0;32m~/inventory/.venv/lib/python3.10/site-packages/sqlalchemy/orm/scoping.py:197\u001b[0m, in \u001b[0;36mscoped_session._proxied\u001b[0;34m(self)\u001b[0m\n\u001b[1;32m    195\u001b[0m \u001b[38;5;129m@property\u001b[39m\n\u001b[1;32m    196\u001b[0m \u001b[38;5;28;01mdef\u001b[39;00m \u001b[38;5;21m_proxied\u001b[39m(\u001b[38;5;28mself\u001b[39m) \u001b[38;5;241m-\u001b[39m\u001b[38;5;241m>\u001b[39m _S:\n\u001b[0;32m--> 197\u001b[0m     \u001b[38;5;28;01mreturn\u001b[39;00m \u001b[38;5;28;43mself\u001b[39;49m\u001b[38;5;241;43m.\u001b[39;49m\u001b[43mregistry\u001b[49m\u001b[43m(\u001b[49m\u001b[43m)\u001b[49m\n",
      "File \u001b[0;32m~/inventory/.venv/lib/python3.10/site-packages/sqlalchemy/util/_collections.py:632\u001b[0m, in \u001b[0;36mScopedRegistry.__call__\u001b[0;34m(self)\u001b[0m\n\u001b[1;32m    631\u001b[0m \u001b[38;5;28;01mdef\u001b[39;00m \u001b[38;5;21m__call__\u001b[39m(\u001b[38;5;28mself\u001b[39m) \u001b[38;5;241m-\u001b[39m\u001b[38;5;241m>\u001b[39m _T:\n\u001b[0;32m--> 632\u001b[0m     key \u001b[38;5;241m=\u001b[39m \u001b[38;5;28;43mself\u001b[39;49m\u001b[38;5;241;43m.\u001b[39;49m\u001b[43mscopefunc\u001b[49m\u001b[43m(\u001b[49m\u001b[43m)\u001b[49m\n\u001b[1;32m    633\u001b[0m     \u001b[38;5;28;01mtry\u001b[39;00m:\n\u001b[1;32m    634\u001b[0m         \u001b[38;5;28;01mreturn\u001b[39;00m \u001b[38;5;28mself\u001b[39m\u001b[38;5;241m.\u001b[39mregistry[key]  \u001b[38;5;66;03m# type: ignore[no-any-return]\u001b[39;00m\n",
      "File \u001b[0;32m~/inventory/.venv/lib/python3.10/site-packages/flask_sqlalchemy/session.py:111\u001b[0m, in \u001b[0;36m_app_ctx_id\u001b[0;34m()\u001b[0m\n\u001b[1;32m    109\u001b[0m \u001b[38;5;28;01mdef\u001b[39;00m \u001b[38;5;21m_app_ctx_id\u001b[39m() \u001b[38;5;241m-\u001b[39m\u001b[38;5;241m>\u001b[39m \u001b[38;5;28mint\u001b[39m:\n\u001b[1;32m    110\u001b[0m \u001b[38;5;250m    \u001b[39m\u001b[38;5;124;03m\"\"\"Get the id of the current Flask application context for the session scope.\"\"\"\u001b[39;00m\n\u001b[0;32m--> 111\u001b[0m     \u001b[38;5;28;01mreturn\u001b[39;00m \u001b[38;5;28mid\u001b[39m(\u001b[43mapp_ctx\u001b[49m\u001b[38;5;241;43m.\u001b[39;49m\u001b[43m_get_current_object\u001b[49m\u001b[43m(\u001b[49m\u001b[43m)\u001b[49m)\n",
      "File \u001b[0;32m~/inventory/.venv/lib/python3.10/site-packages/werkzeug/local.py:508\u001b[0m, in \u001b[0;36mLocalProxy.__init__.<locals>._get_current_object\u001b[0;34m()\u001b[0m\n\u001b[1;32m    506\u001b[0m     obj \u001b[38;5;241m=\u001b[39m local\u001b[38;5;241m.\u001b[39mget()\n\u001b[1;32m    507\u001b[0m \u001b[38;5;28;01mexcept\u001b[39;00m \u001b[38;5;167;01mLookupError\u001b[39;00m:\n\u001b[0;32m--> 508\u001b[0m     \u001b[38;5;28;01mraise\u001b[39;00m \u001b[38;5;167;01mRuntimeError\u001b[39;00m(unbound_message) \u001b[38;5;28;01mfrom\u001b[39;00m \u001b[38;5;28;01mNone\u001b[39;00m\n\u001b[1;32m    510\u001b[0m \u001b[38;5;28;01mreturn\u001b[39;00m get_name(obj)\n",
      "\u001b[0;31mRuntimeError\u001b[0m: Working outside of application context.\n\nThis typically means that you attempted to use functionality that needed\nthe current application. To solve this, set up an application context\nwith app.app_context(). See the documentation for more information."
     ]
    }
   ],
   "source": [
    "product = Product.from_wix(test)"
   ]
  },
  {
   "cell_type": "code",
   "execution_count": 11,
   "metadata": {},
   "outputs": [],
   "source": [
    "photo_examp = usefull.photo[0]\n",
    "photo_examp.split(';')\n",
    "base_url = \"https://static.wixstatic.com/media/\""
   ]
  },
  {
   "cell_type": "code",
   "execution_count": 12,
   "metadata": {},
   "outputs": [
    {
     "data": {
      "text/plain": [
       "'https://static.wixstatic.com/media/af929c_470c2d7e4c3048fdae7451a712fc3e85~mv2.jpg'"
      ]
     },
     "execution_count": 12,
     "metadata": {},
     "output_type": "execute_result"
    }
   ],
   "source": [
    "img_url = base_url + photo_examp.split(';')[0]\n",
    "\n",
    "img_url"
   ]
  }
 ],
 "metadata": {
  "kernelspec": {
   "display_name": ".venv",
   "language": "python",
   "name": "python3"
  },
  "language_info": {
   "codemirror_mode": {
    "name": "ipython",
    "version": 3
   },
   "file_extension": ".py",
   "mimetype": "text/x-python",
   "name": "python",
   "nbconvert_exporter": "python",
   "pygments_lexer": "ipython3",
   "version": "3.10.13"
  }
 },
 "nbformat": 4,
 "nbformat_minor": 2
}
